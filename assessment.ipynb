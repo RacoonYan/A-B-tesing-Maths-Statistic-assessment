{
 "cells": [
  {
   "cell_type": "markdown",
   "metadata": {},
   "source": [
    "# Ran Yan math&statistics assessment"
   ]
  },
  {
   "cell_type": "code",
   "execution_count": null,
   "metadata": {},
   "outputs": [],
   "source": [
    "! pip install scipy\n"
   ]
  },
  {
   "cell_type": "code",
   "execution_count": null,
   "metadata": {},
   "outputs": [],
   "source": [
    "! pip install matplotlib"
   ]
  },
  {
   "cell_type": "code",
   "execution_count": null,
   "metadata": {},
   "outputs": [],
   "source": [
    "! pip install statsmodels"
   ]
  },
  {
   "cell_type": "code",
   "execution_count": null,
   "metadata": {},
   "outputs": [],
   "source": [
    "! pip install seaborn\n"
   ]
  },
  {
   "cell_type": "code",
   "execution_count": 1,
   "metadata": {},
   "outputs": [],
   "source": [
    "# Import packages\n",
    "import pandas as pd\n",
    "import numpy as np\n",
    "from scipy import stats\n",
    "from scipy.stats import binom\n",
    "import statsmodels.api as sm\n",
    "import seaborn as sns\n",
    "import matplotlib.pyplot as plt\n",
    "\n",
    "# Set matplotlib as inline\n",
    "%matplotlib inline "
   ]
  },
  {
   "cell_type": "markdown",
   "metadata": {},
   "source": [
    "## Case \n",
    "A cooking website sells cooking equipment. They want to improve their product page. The product page has a rail with media (images or videos). Up until now, they have had a horizontal rail, a UX designer suggested having a vertical one. As the data analyst in the company, I suggested doing an AB test on it. The results of the experiment is in the file named assessment_da25.csv."
   ]
  },
  {
   "cell_type": "code",
   "execution_count": null,
   "metadata": {},
   "outputs": [],
   "source": [
    "file_path = 'assessment_da25.csv'\n",
    "df = pd.read_csv(file_path)\n",
    "df.head()"
   ]
  },
  {
   "cell_type": "code",
   "execution_count": null,
   "metadata": {},
   "outputs": [],
   "source": [
    "df.info()"
   ]
  },
  {
   "cell_type": "markdown",
   "metadata": {},
   "source": [
    "### 1. Primary Metric \n",
    "The conversion rate of \" add to cart\" will be taken as the primary metric here. In order to caculate it, a new column called 'cart_status' is added , define by whether user add the product to cart or not depending on the column 'number of add to cart'"
   ]
  },
  {
   "cell_type": "code",
   "execution_count": null,
   "metadata": {},
   "outputs": [],
   "source": [
    "df['cart_status']= df['Number of add to cart'].apply(lambda x: 1 if x > 0 else 0)\n",
    "conversion_rate_add_to_cart_A=df[df['Variant']=='A']['cart_status'].mean()\n",
    "conversion_rate_add_to_cart_B=df[df['Variant']=='B']['cart_status'].mean()"
   ]
  },
  {
   "cell_type": "code",
   "execution_count": null,
   "metadata": {},
   "outputs": [],
   "source": [
    "#plot the binomial distribution of the two variants\n",
    "# Set parameters for the binomial distribution\n",
    "n_A = len(df[df['Variant']=='A'])  \n",
    "p_A = conversion_rate_add_to_cart_A # probability of success of variant A \n",
    "n_B = len(df[df['Variant']=='B']) \n",
    "p_B = conversion_rate_add_to_cart_B # probability of success of variant B \n",
    "\n",
    "# Generate x values (number of successes)\n",
    "x_A_values = np.arange(0, n_A+1)\n",
    "x_B_values = np.arange(0, n_B+1)\n",
    "# Calculate the PMF using scipy.stats.binom.pmf\n",
    "pmf_A_values = binom.pmf(x_A_values, n_A, p_A)\n",
    "pmf_B_values = binom.pmf(x_A_values, n_A, p_B)\n",
    "\n",
    "# Plot the PMF\n",
    "plt.bar(x_A_values, pmf_A_values, label='Variant A', alpha=0.5, color='tan')\n",
    "plt.bar(x_B_values, pmf_B_values, label='Variant B', alpha=0.5, color='olivedrab')\n",
    "\n",
    "# Add labels and title\n",
    "plt.xlabel('converted')\n",
    "plt.ylabel('Probability')\n",
    "plt.title(f'Binomial distribution of Variant A and Variant B')\n",
    "\n",
    "plt.xlim(800,1000)\n",
    "plt.legend()\n",
    "# Show the plot\n",
    "plt.show()\n",
    "print(\n",
    "    \"\"\"\n",
    "    The conversion rate of \"add to cart\" is {:.2f} in Variant A and {:.2f} in Varian B. Is that difference statistically significant?\n",
    "    \"\"\".format( \n",
    "        conversion_rate_add_to_cart_A, \n",
    "        conversion_rate_add_to_cart_B\n",
    "    )\n",
    ")"
   ]
  },
  {
   "cell_type": "code",
   "execution_count": null,
   "metadata": {},
   "outputs": [],
   "source": [
    "# standard error of the mean for both groups\n",
    "SE_A = np.sqrt(p_A * (1-p_A)) / np.sqrt(n_A)\n",
    "SE_B = np.sqrt(p_B * (1-p_B)) / np.sqrt(n_B)\n",
    "# plot the null and alternative hypothesis\n",
    "fig, ax = plt.subplots(figsize=(12,5))\n",
    "x = np.linspace(.78, .94, 1000)\n",
    "yA = stats.norm(p_A, SE_A).pdf(x)\n",
    "ax.plot(x, yA)\n",
    "ax.axvline(x=p_A, c='tan', alpha=0.5, linestyle='--')\n",
    "yB = stats.norm(p_B, SE_B).pdf(x)\n",
    "ax.plot(x, yB)\n",
    "ax.axvline(x=p_B, c='olivedrab', alpha=0.5, linestyle='--')\n",
    "plt.plot(x, yA, label = 'Variant_A', c = 'tan')\n",
    "plt.plot(x, yB, label = 'Variant_B', c = 'olivedrab')\n",
    "plt.legend()\n",
    "plt.xlabel('Conversion Rate of \"add to cart\"')\n",
    "plt.ylabel('PDF')"
   ]
  },
  {
   "cell_type": "markdown",
   "metadata": {},
   "source": [
    "### Test of primary metrics\n",
    "\n",
    "Run z test on the conversion rate of \" add to cart\" with the parameter of the propotion of users put product into cart in Variant A and Variant B"
   ]
  },
  {
   "cell_type": "code",
   "execution_count": null,
   "metadata": {},
   "outputs": [],
   "source": [
    "z_stat, p_value = sm.stats.proportions_ztest([df[df['Variant']=='A']['cart_status'].sum(),df[df['Variant']=='B']['cart_status'].sum()],\n",
    "                                             [1000, 1000])\n",
    "print(f\"Z-statistic: {z_stat}\")\n",
    "print(f\"P-value: {p_value}\")"
   ]
  },
  {
   "cell_type": "markdown",
   "metadata": {},
   "source": [
    "### 2. Secondary Metrics \n",
    "#### 2.1 the average clicks on media"
   ]
  },
  {
   "cell_type": "code",
   "execution_count": null,
   "metadata": {},
   "outputs": [],
   "source": [
    "#sns plot\n",
    "ax=sns.histplot(data=df, x=df[df['Variant']=='A']['Clicks on media'], bins=20, color='tan', label='Varian A', alpha=0.5,edgecolor='none',kde=True)\n",
    "sns.histplot(data=df, x=df[df['Variant']=='B']['Clicks on media'], bins=20, color='darkgreen', label='Variant B', alpha=0.5,edgecolor='none',kde=True)\n",
    "\n",
    "# Set labels and title\n",
    "plt.xlabel('clicks on media')\n",
    "plt.ylabel('# users')\n",
    "plt.title(\"distribution of'clicks of media' on the sample\")\n",
    "\n",
    "# Show the legend\n",
    "plt.legend()\n",
    "\n",
    "# Show the plot\n",
    "plt.show()\n",
    "\n",
    "print(\n",
    "    \"\"\"\n",
    "    The average Clicks on media is {:.2f} in Variant A and {:.2f} in Varian B. Is that difference statistically significant?\n",
    "    \"\"\".format( \n",
    "        df[df['Variant']=='A']['Clicks on media'].mean(), \n",
    "        df[df['Variant']=='B']['Clicks on media'].mean()\n",
    "    )\n",
    ")"
   ]
  },
  {
   "cell_type": "markdown",
   "metadata": {},
   "source": [
    "### Test of clicks on media\n",
    "Run t test on the means of the 'clicks on media' of the two variants"
   ]
  },
  {
   "cell_type": "code",
   "execution_count": null,
   "metadata": {},
   "outputs": [],
   "source": [
    "\n",
    "stats.ttest_ind( df[df['Variant']=='A']['Clicks on media'], df[df['Variant']=='B']['Clicks on media'], equal_var=False)"
   ]
  },
  {
   "cell_type": "markdown",
   "metadata": {},
   "source": [
    "### 2.2 conversion rate of 'clicks on media'"
   ]
  },
  {
   "cell_type": "markdown",
   "metadata": {},
   "source": [
    "add a new column \"click\", define by whether user click on the media at all after entering the product page"
   ]
  },
  {
   "cell_type": "code",
   "execution_count": null,
   "metadata": {},
   "outputs": [],
   "source": [
    "df['click']= df['Clicks on media'].apply(lambda x: 1 if x > 0 else 0)\n",
    "conversion_rate_click_on_media_A=df[df['Variant']=='A']['click'].mean()\n",
    "conversion_rate_click_on_media_B=df[df['Variant']=='B']['click'].mean()"
   ]
  },
  {
   "cell_type": "code",
   "execution_count": null,
   "metadata": {},
   "outputs": [],
   "source": [
    "#plot\n",
    "# Set parameters for the binomial distribution\n",
    "n_A = len(df[df['Variant']=='A'])  # number of trials of variant A\n",
    "p_A = conversion_rate_click_on_media_A # probability of success of variant A \n",
    "n_B = len(df[df['Variant']=='B'])  # number of trials of variant B\n",
    "p_B = conversion_rate_click_on_media_B # probability of success of variant B \n",
    "\n",
    "# Generate x values (number of successes)\n",
    "x_A_values = np.arange(0, n_A+1)\n",
    "x_B_values = np.arange(0, n_B+1)\n",
    "# Calculate the PMF using scipy.stats.binom.pmf\n",
    "pmf_A_values = binom.pmf(x_A_values, n_A, p_A)\n",
    "pmf_B_values = binom.pmf(x_A_values, n_A, p_B)\n",
    "\n",
    "# Plot the PMF\n",
    "plt.bar(x_A_values, pmf_A_values, label='Variant A', alpha=0.5, color='tan')\n",
    "plt.bar(x_B_values, pmf_B_values, label='Variant B', alpha=0.5, color='olivedrab')\n",
    "\n",
    "# Add labels and title\n",
    "plt.xlabel('converted on click_on_media')\n",
    "plt.ylabel('Probability')\n",
    "plt.title(f'Binomial distribution of Variant A and Variant B')\n",
    "\n",
    "plt.xlim(600,1000)\n",
    "plt.legend()\n",
    "# Show the plot\n",
    "plt.show()\n",
    "print(\n",
    "    \"\"\"\n",
    "    The conversion rate of \"click on media\" is {:.2f} in Variant A and {:.2f} in Varian B. Is that difference statistically significant?\n",
    "    \"\"\".format( \n",
    "        conversion_rate_click_on_media_A, \n",
    "       conversion_rate_click_on_media_B\n",
    "    )\n",
    ")"
   ]
  },
  {
   "cell_type": "markdown",
   "metadata": {},
   "source": [
    "#### test of conversion rate of \"click on media\""
   ]
  },
  {
   "cell_type": "code",
   "execution_count": null,
   "metadata": {},
   "outputs": [],
   "source": [
    "z_stat, p_value = sm.stats.proportions_ztest([df[df['Variant']=='A']['click'].sum(),df[df['Variant']=='B']['click'].sum()],\n",
    "                                             [1000, 1000])\n",
    "print(f\"Z-statistic: {z_stat}\")\n",
    "print(f\"P-value: {p_value}\")"
   ]
  },
  {
   "cell_type": "markdown",
   "metadata": {},
   "source": [
    "### 2.3 Average number of page view"
   ]
  },
  {
   "cell_type": "code",
   "execution_count": null,
   "metadata": {},
   "outputs": [],
   "source": [
    "#sns plot\n",
    "ax=sns.histplot(data=df, x=df[df['Variant']=='A']['Number of page views'], bins=20, color='tan', label='Varian A', alpha=0.5,edgecolor='none',kde=True)\n",
    "sns.histplot(data=df, x=df[df['Variant']=='B']['Number of page views'], bins=20, color='darkgreen', label='Variant B', alpha=0.5,edgecolor='none',kde=True)\n",
    "\n",
    "# Set labels and title\n",
    "plt.xlabel('number of page views')\n",
    "plt.ylabel('# users')\n",
    "plt.title(\"distribution of'number of page views' on the sample\")\n",
    "\n",
    "# Show the legend\n",
    "plt.legend()\n",
    "\n",
    "# Show the plot\n",
    "plt.show()\n",
    "\n",
    "print(\n",
    "    \"\"\"\n",
    "    The average number of page views is {:.2f} in Variant A and {:.2f} in Varian B. Is that difference statistically significant?\n",
    "    \"\"\".format( \n",
    "        df[df['Variant']=='A']['Number of page views'].mean(), \n",
    "        df[df['Variant']=='B']['Number of page views'].mean()\n",
    "    )\n",
    ")"
   ]
  },
  {
   "cell_type": "markdown",
   "metadata": {},
   "source": [
    "#### Test\n",
    "Run t test on the means of the 'Number of page views' of the two variants"
   ]
  },
  {
   "cell_type": "code",
   "execution_count": null,
   "metadata": {},
   "outputs": [],
   "source": [
    "stats.ttest_ind( df[df['Variant']=='A']['Number of page views'], df[df['Variant']=='B']['Number of page views'], equal_var=False)"
   ]
  },
  {
   "cell_type": "markdown",
   "metadata": {},
   "source": [
    "### 2.4 Conversion rate\n",
    "add a new column \"convertion\", define by whether user purchase anything, which is when GMV>0."
   ]
  },
  {
   "cell_type": "code",
   "execution_count": null,
   "metadata": {},
   "outputs": [],
   "source": [
    "df['conversion']= df['GMV (in $)'].apply(lambda x: 1 if x > 0 else 0)\n",
    "conversion_rate_A=df[df['Variant']=='A']['conversion'].mean()\n",
    "conversion_rate_B=df[df['Variant']=='B']['conversion'].mean()"
   ]
  },
  {
   "cell_type": "code",
   "execution_count": null,
   "metadata": {},
   "outputs": [],
   "source": [
    "#plot\n",
    "# Set parameters for the binomial distribution\n",
    "n_A = len(df[df['Variant']=='A'])  # number of trials of variant A\n",
    "p_A = conversion_rate_A # probability of success of variant A \n",
    "n_B = len(df[df['Variant']=='B'])  # number of trials of variant B\n",
    "p_B = conversion_rate_B # probability of success of variant B \n",
    "\n",
    "# Generate x values (number of successes)\n",
    "x_A_values = np.arange(0, n_A+1)\n",
    "x_B_values = np.arange(0, n_B+1)\n",
    "# Calculate the PMF using scipy.stats.binom.pmf\n",
    "pmf_A_values = binom.pmf(x_A_values, n_A, p_A)\n",
    "pmf_B_values = binom.pmf(x_A_values, n_A, p_B)\n",
    "\n",
    "# Plot the PMF\n",
    "plt.bar(x_A_values, pmf_A_values, label='Variant A', alpha=0.5, color='tan')\n",
    "plt.bar(x_B_values, pmf_B_values, label='Variant B', alpha=0.5, color='olivedrab')\n",
    "\n",
    "# Add labels and title\n",
    "plt.xlabel('converted on GMV')\n",
    "plt.ylabel('Probability')\n",
    "plt.title(f'Binomial distribution of Variant A and Variant B')\n",
    "\n",
    "plt.xlim(600,1000)\n",
    "plt.legend()\n",
    "# Show the plot\n",
    "plt.show()\n",
    "print(\n",
    "    \"\"\"\n",
    "    The conversion rate of GMV is {:.2f} in Variant A and {:.2f} in Varian B. Is that difference statistically significant?\n",
    "    \"\"\".format( \n",
    "        conversion_rate_A, \n",
    "       conversion_rate_B\n",
    "    )\n",
    ")"
   ]
  },
  {
   "cell_type": "markdown",
   "metadata": {},
   "source": [
    "#### test on conversion rate"
   ]
  },
  {
   "cell_type": "code",
   "execution_count": null,
   "metadata": {},
   "outputs": [],
   "source": [
    "z_stat, p_value = sm.stats.proportions_ztest([df[df['Variant']=='A']['convertion'].sum(),df[df['Variant']=='B']['convertion'].sum()],\n",
    "                                             [1000, 1000])\n",
    "print(f\"Z-statistic: {z_stat}\")\n",
    "print(f\"P-value: {p_value}\")"
   ]
  },
  {
   "cell_type": "code",
   "execution_count": null,
   "metadata": {},
   "outputs": [],
   "source": [
    "stats.ttest_ind( df[df['Variant']=='A']['convertion'], df[df['Variant']=='B']['convertion'], equal_var=False)"
   ]
  },
  {
   "cell_type": "markdown",
   "metadata": {},
   "source": [
    "### 3. Guardrail metric \n",
    "revenue per user"
   ]
  },
  {
   "cell_type": "code",
   "execution_count": null,
   "metadata": {},
   "outputs": [],
   "source": [
    "df.groupby('Variant')['GMV (in $)'].sum()"
   ]
  },
  {
   "cell_type": "code",
   "execution_count": null,
   "metadata": {},
   "outputs": [],
   "source": [
    "#sns plot\n",
    "ax=sns.histplot(data=df, x=df[df['Variant']=='A']['GMV (in $)'], bins=20, color='tan', label='Varian A', alpha=0.5,edgecolor='none',kde=True)\n",
    "sns.histplot(data=df, x=df[df['Variant']=='B']['GMV (in $)'], bins=20, color='darkgreen', label='Variant B', alpha=0.5,edgecolor='none',kde=True)\n",
    "\n",
    "# Set labels and title\n",
    "plt.xlabel('GMV (in $)')\n",
    "plt.ylabel('# users')\n",
    "plt.title(\"distribution of'GMV (in $)\")\n",
    "\n",
    "# Show the legend\n",
    "plt.legend()\n",
    "\n",
    "# Show the plot\n",
    "plt.show()\n",
    "\n",
    "print(\n",
    "    \"\"\"\n",
    "    The average GMV (in $) is {:.2f} in Variant A and {:.2f} in Varian B. Is that difference statistically significant?\n",
    "    \"\"\".format( \n",
    "        df[df['Variant']=='A']['GMV (in $)'].mean(), \n",
    "        df[df['Variant']=='B']['GMV (in $)'].mean()\n",
    "        )\n",
    ")"
   ]
  },
  {
   "cell_type": "markdown",
   "metadata": {},
   "source": [
    "#### test of GMV per user"
   ]
  },
  {
   "cell_type": "code",
   "execution_count": null,
   "metadata": {},
   "outputs": [],
   "source": [
    "stats.ttest_ind( df[df['Variant']=='A']['GMV (in $)'], df[df['Variant']=='B']['GMV (in $)'], equal_var=False)"
   ]
  }
 ],
 "metadata": {
  "kernelspec": {
   "display_name": "Python 3.11.5 ('base')",
   "language": "python",
   "name": "python3"
  },
  "language_info": {
   "codemirror_mode": {
    "name": "ipython",
    "version": 3
   },
   "file_extension": ".py",
   "mimetype": "text/x-python",
   "name": "python",
   "nbconvert_exporter": "python",
   "pygments_lexer": "ipython3",
   "version": "3.11.8"
  },
  "orig_nbformat": 4,
  "vscode": {
   "interpreter": {
    "hash": "d9948f59091ee3164b3a3cf8224588712d37f8150bc4cd6ec593ed25eaedc0f2"
   }
  }
 },
 "nbformat": 4,
 "nbformat_minor": 2
}
